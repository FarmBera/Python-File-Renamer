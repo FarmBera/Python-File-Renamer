{
 "cells": [
  {
   "cell_type": "code",
   "execution_count": 69,
   "metadata": {},
   "outputs": [],
   "source": [
    "# STR_FIND = \".txt\"\n",
    "# STR_REPLACE = \".md\"\n",
    "\n",
    "# 참고 할 이름을 가진 파일들의 확장자\n",
    "EXT_REF = \".txt\"\n",
    "\n",
    "# 수정 할 파일들의 확장자\n",
    "EXT_MODIFY = \".md\""
   ]
  },
  {
   "cell_type": "code",
   "execution_count": 70,
   "metadata": {},
   "outputs": [],
   "source": [
    "import os\n",
    "import pandas as pd\n",
    "import datetime"
   ]
  },
  {
   "cell_type": "code",
   "execution_count": 71,
   "metadata": {},
   "outputs": [
    {
     "name": "stdout",
     "output_type": "stream",
     "text": [
      "['.DS_Store', '.git', '.gitattributes', '.gitignore', '1 one.txt', '1.md', '2 two.txt', '2.md', '3 three.txt', '3.md', 'Main.ipynb', 'Main.py', 'README.md', 'result.csv', 'task_result.csv']\n"
     ]
    }
   ],
   "source": [
    "# 경로에 있는 모든 파일 목록 리스트업\n",
    "dir_list = os.listdir()\n",
    "dir_list.sort()  # 정렬\n",
    "print(dir_list)"
   ]
  },
  {
   "cell_type": "code",
   "execution_count": 72,
   "metadata": {},
   "outputs": [
    {
     "name": "stdout",
     "output_type": "stream",
     "text": [
      "['1 one', '2 two', '3 three']\n",
      "['1.md', '2.md', '3.md', 'README.md']\n"
     ]
    }
   ],
   "source": [
    "ref_data = []\n",
    "to_data = []\n",
    "\n",
    "# 참고 할 이름을 가진 파일들의 확장자만 추출\n",
    "for item in dir_list:\n",
    "    if item.endswith(EXT_REF):\n",
    "        ref_data.append(item.replace(EXT_REF, \"\"))\n",
    "\n",
    "# 수정 할 파일 목록 추출\n",
    "for item in dir_list:\n",
    "    if item.endswith(EXT_MODIFY):\n",
    "        to_data.append(item)\n",
    "\n",
    "print(ref_data)\n",
    "print(to_data)"
   ]
  },
  {
   "cell_type": "code",
   "execution_count": null,
   "metadata": {},
   "outputs": [],
   "source": [
    "# 파일 개수 맞는지 확인\n",
    "\n",
    "if not len(ref_data) == len(to_data):\n",
    "    raise IndexError(\"파일 개수가 맞지 않습니다!\")"
   ]
  },
  {
   "cell_type": "code",
   "execution_count": 73,
   "metadata": {},
   "outputs": [],
   "source": [
    "# Deprecated\n",
    "# 참고 할 이름을 가진 파일들의 이름만 \"result.csv\"에 저장\n",
    "\n",
    "# df = pd.DataFrame([ref_data])  # create dataframe\n",
    "# df = df.T  # 행/열 Transpose\n",
    "# df.to_csv(\"result.csv\", index=False, header=False, encoding=\"UTF-8\")"
   ]
  },
  {
   "cell_type": "code",
   "execution_count": 79,
   "metadata": {},
   "outputs": [
    {
     "name": "stdout",
     "output_type": "stream",
     "text": [
      "[['time', 'State', 'Before Name', 'Changed Name'], [datetime.datetime(2024, 2, 25, 22, 31, 23, 914778), 'OK', '1.md', '1 one.md'], [datetime.datetime(2024, 2, 25, 22, 31, 23, 914903), 'OK', '2.md', '2 two.md'], [datetime.datetime(2024, 2, 25, 22, 31, 23, 915093), 'OK', '3.md', '3 three.md']]\n"
     ]
    }
   ],
   "source": [
    "# 작업 정상 처리 되었는지 확인하기 위한 배열\n",
    "task_list = [[\"time\", \"State\", \"Before Name\", \"Changed Name\"]]\n",
    "\n",
    "# 작업 정상 처리 되었을 시, 메시지\n",
    "MSG = \"OK\"\n",
    "\n",
    "# 데이터 처리 시작\n",
    "for i in range(len(ref_data)):\n",
    "    data1 = to_data[i]\n",
    "    data2 = ref_data[i]\n",
    "\n",
    "    # 이름 바꾸기\n",
    "    os.rename(data1, f\"{data2}{EXT_MODIFY}\")\n",
    "\n",
    "    # 작업 처리 메시지에 추가\n",
    "    task_list.append([datetime.datetime.now(), MSG, data1, f\"{data2}{EXT_MODIFY}\"])\n",
    "\n",
    "print(task_list)\n",
    "\n",
    "\n",
    "# 작업 목록 저장\n",
    "df = pd.DataFrame(task_list)  # create dataframe\n",
    "# df = df.T  # 행/열 Transpose\n",
    "df.to_csv(\"task_result.csv\", index=False, header=False, encoding=\"UTF-8\")"
   ]
  },
  {
   "cell_type": "code",
   "execution_count": null,
   "metadata": {},
   "outputs": [],
   "source": []
  }
 ],
 "metadata": {
  "kernelspec": {
   "display_name": "Python 3",
   "language": "python",
   "name": "python3"
  },
  "language_info": {
   "codemirror_mode": {
    "name": "ipython",
    "version": 3
   },
   "file_extension": ".py",
   "mimetype": "text/x-python",
   "name": "python",
   "nbconvert_exporter": "python",
   "pygments_lexer": "ipython3",
   "version": "3.9.13"
  }
 },
 "nbformat": 4,
 "nbformat_minor": 2
}
