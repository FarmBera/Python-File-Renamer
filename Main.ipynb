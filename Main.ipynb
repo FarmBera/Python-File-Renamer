{
 "cells": [
  {
   "cell_type": "code",
   "execution_count": 69,
   "metadata": {},
   "outputs": [],
   "source": [
    "# STR_FIND = \".txt\"\n",
    "# STR_REPLACE = \".md\"\n",
    "\n",
    "EXT_REF = \".txt\"\n",
    "EXT_MODIFY = \".md\""
   ]
  },
  {
   "cell_type": "code",
   "execution_count": 70,
   "metadata": {},
   "outputs": [],
   "source": [
    "import os\n",
    "import pandas as pd\n",
    "import datetime"
   ]
  },
  {
   "cell_type": "code",
   "execution_count": 71,
   "metadata": {},
   "outputs": [
    {
     "name": "stdout",
     "output_type": "stream",
     "text": [
      "['.DS_Store', '.git', '.gitattributes', '.gitignore', '1 one.txt', '1.md', '2 two.txt', '2.md', '3 three.txt', '3.md', 'Main.ipynb', 'Main.py', 'README.md', 'result.csv', 'task_result.csv']\n"
     ]
    }
   ],
   "source": [
    "dir_list = os.listdir()\n",
    "dir_list.sort()\n",
    "print(dir_list)"
   ]
  },
  {
   "cell_type": "code",
   "execution_count": 72,
   "metadata": {},
   "outputs": [
    {
     "name": "stdout",
     "output_type": "stream",
     "text": [
      "['1 one', '2 two', '3 three']\n",
      "['1.md', '2.md', '3.md', 'README.md']\n"
     ]
    }
   ],
   "source": [
    "ref_data = []\n",
    "to_data = []\n",
    "\n",
    "for item in dir_list:\n",
    "    if item.endswith(EXT_REF):\n",
    "        ref_data.append(item.replace(EXT_REF, \"\"))\n",
    "\n",
    "for item in dir_list:\n",
    "    if item.endswith(EXT_MODIFY):\n",
    "        to_data.append(item)\n",
    "\n",
    "print(ref_data)\n",
    "print(to_data)"
   ]
  },
  {
   "cell_type": "code",
   "execution_count": null,
   "metadata": {},
   "outputs": [],
   "source": [
    "if not len(ref_data) == len(to_data):\n",
    "    raise IndexError(\"파일 개수가 맞지 않습니다!\")"
   ]
  },
  {
   "cell_type": "code",
   "execution_count": 73,
   "metadata": {},
   "outputs": [],
   "source": [
    "# df = pd.DataFrame([ref_data])  # create dataframe\n",
    "# df = df.T  # 행/열 Transpose\n",
    "# df.to_csv(\"result.csv\", index=False, header=False, encoding=\"UTF-8\")"
   ]
  },
  {
   "cell_type": "code",
   "execution_count": 79,
   "metadata": {},
   "outputs": [
    {
     "name": "stdout",
     "output_type": "stream",
     "text": [
      "[['time', 'State', 'Before Name', 'Changed Name'], [datetime.datetime(2024, 2, 25, 22, 31, 23, 914778), 'OK', '1.md', '1 one.md'], [datetime.datetime(2024, 2, 25, 22, 31, 23, 914903), 'OK', '2.md', '2 two.md'], [datetime.datetime(2024, 2, 25, 22, 31, 23, 915093), 'OK', '3.md', '3 three.md']]\n"
     ]
    }
   ],
   "source": [
    "task_list = [[\"time\", \"State\", \"Before Name\", \"Changed Name\"]]\n",
    "MSG = \"OK\"\n",
    "\n",
    "for i in range(len(ref_data)):\n",
    "    data1 = to_data[i]\n",
    "    data2 = ref_data[i]\n",
    "    os.rename(data1, f\"{data2}{EXT_MODIFY}\")\n",
    "    task_list.append([datetime.datetime.now(), MSG, data1, f\"{data2}{EXT_MODIFY}\"])\n",
    "\n",
    "print(task_list)\n",
    "\n",
    "df = pd.DataFrame(task_list)  # create dataframe\n",
    "# df = df.T  # 행/열 Transpose\n",
    "df.to_csv(\"task_result.csv\", index=False, header=False, encoding=\"UTF-8\")"
   ]
  },
  {
   "cell_type": "markdown",
   "metadata": {},
   "source": []
  }
 ],
 "metadata": {
  "kernelspec": {
   "display_name": "Python 3",
   "language": "python",
   "name": "python3"
  },
  "language_info": {
   "codemirror_mode": {
    "name": "ipython",
    "version": 3
   },
   "file_extension": ".py",
   "mimetype": "text/x-python",
   "name": "python",
   "nbconvert_exporter": "python",
   "pygments_lexer": "ipython3",
   "version": "3.9.13"
  }
 },
 "nbformat": 4,
 "nbformat_minor": 2
}
