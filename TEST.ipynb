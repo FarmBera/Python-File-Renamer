{
 "cells": [
  {
   "cell_type": "code",
   "execution_count": 10,
   "metadata": {},
   "outputs": [
    {
     "name": "stdout",
     "output_type": "stream",
     "text": [
      "2024-02-28 21:02:14.122588\n",
      "2024-02-28 21:02:14.122604\n",
      "0시간 0분 0.16초\n"
     ]
    }
   ],
   "source": [
    "import datetime\n",
    "\n",
    "dttime = lambda: datetime.datetime.now()\n",
    "\n",
    "TIME_START = dttime()\n",
    "TIME_END = dttime()\n",
    "\n",
    "print(TIME_START)\n",
    "print(TIME_END)\n",
    "\n",
    "time_diff = TIME_END - TIME_START\n",
    "\n",
    "hours = time_diff.seconds // 3600\n",
    "minutes = (time_diff.seconds % 3600) // 60\n",
    "seconds = time_diff.seconds % 60\n",
    "microseconds = time_diff.microseconds\n",
    "\n",
    "TOTAL_TIME = f\"{hours}시간 {minutes}분 {seconds}.{microseconds}초\"\n",
    "print(TOTAL_TIME)"
   ]
  },
  {
   "cell_type": "code",
   "execution_count": 4,
   "metadata": {},
   "outputs": [
    {
     "name": "stdout",
     "output_type": "stream",
     "text": [
      "[2024-02-28 20:36:35.280097] Log File Write Failed\n"
     ]
    }
   ],
   "source": [
    "import datetime\n",
    "\n",
    "TimeNow = lambda: f\"[{datetime.datetime.now()}] \"\n",
    "\n",
    "msg = TimeNow() + \"Log File Write Failed\"\n",
    "print(msg)"
   ]
  },
  {
   "cell_type": "code",
   "execution_count": 12,
   "metadata": {},
   "outputs": [
    {
     "name": "stdout",
     "output_type": "stream",
     "text": [
      "['10file.txt', '11file.txt', '1file.txt', '20file.txt', '21file.txt', '2file.txt', '3file.txt', '5file.txt']\n"
     ]
    },
    {
     "ename": "TypeError",
     "evalue": "sort() takes no positional arguments",
     "output_type": "error",
     "traceback": [
      "\u001b[0;31m---------------------------------------------------------------------------\u001b[0m",
      "\u001b[0;31mTypeError\u001b[0m                                 Traceback (most recent call last)",
      "Cell \u001b[0;32mIn[12], line 18\u001b[0m\n\u001b[1;32m     15\u001b[0m \u001b[38;5;28mprint\u001b[39m(\u001b[38;5;28msorted\u001b[39m(l))\n\u001b[1;32m     16\u001b[0m \u001b[38;5;66;03m# ['file1.txt', 'file10.txt', 'file5.txt']\u001b[39;00m\n\u001b[0;32m---> 18\u001b[0m \u001b[38;5;28mprint\u001b[39m(\u001b[43ml\u001b[49m\u001b[38;5;241;43m.\u001b[39;49m\u001b[43msort\u001b[49m\u001b[43m(\u001b[49m\u001b[43ml\u001b[49m\u001b[43m,\u001b[49m\u001b[43m \u001b[49m\u001b[43mkey\u001b[49m\u001b[38;5;241;43m=\u001b[39;49m\u001b[38;5;28;43;01mlambda\u001b[39;49;00m\u001b[43m \u001b[49m\u001b[43ms\u001b[49m\u001b[43m:\u001b[49m\u001b[43m \u001b[49m\u001b[38;5;28;43mint\u001b[39;49m\u001b[43m(\u001b[49m\u001b[43mre\u001b[49m\u001b[38;5;241;43m.\u001b[39;49m\u001b[43msearch\u001b[49m\u001b[43m(\u001b[49m\u001b[38;5;124;43mr\u001b[39;49m\u001b[38;5;124;43m\"\u001b[39;49m\u001b[38;5;124;43m\\\u001b[39;49m\u001b[38;5;124;43md+\u001b[39;49m\u001b[38;5;124;43m\"\u001b[39;49m\u001b[43m,\u001b[49m\u001b[43m \u001b[49m\u001b[43ms\u001b[49m\u001b[43m)\u001b[49m\u001b[38;5;241;43m.\u001b[39;49m\u001b[43mgroup\u001b[49m\u001b[43m(\u001b[49m\u001b[43m)\u001b[49m\u001b[43m)\u001b[49m\u001b[43m)\u001b[49m)\n\u001b[1;32m     19\u001b[0m \u001b[38;5;66;03m# ['file1.txt', 'file5.txt', 'file10.txt']\u001b[39;00m\n",
      "\u001b[0;31mTypeError\u001b[0m: sort() takes no positional arguments"
     ]
    }
   ],
   "source": [
    "import re\n",
    "\n",
    "# l = [ \"file10.txt\", \"file1.txt\", \"file5.txt\", \"file11.txt\", \"file3.txt\", \"file2.txt\", \"file20.txt\", \"file21.txt\"]\n",
    "l = [\n",
    "    \"10file.txt\",\n",
    "    \"1file.txt\",\n",
    "    \"5file.txt\",\n",
    "    \"11file.txt\",\n",
    "    \"3file.txt\",\n",
    "    \"2file.txt\",\n",
    "    \"20file.txt\",\n",
    "    \"21file.txt\",\n",
    "]\n",
    "\n",
    "print(sorted(l))\n",
    "# ['file1.txt', 'file10.txt', 'file5.txt']\n",
    "\n",
    "print(sorted(l, key=lambda s: int(re.search(r\"\\d+\", s).group())))\n",
    "# ['file1.txt', 'file5.txt', 'file10.txt']"
   ]
  }
 ],
 "metadata": {
  "kernelspec": {
   "display_name": "Python 3",
   "language": "python",
   "name": "python3"
  },
  "language_info": {
   "codemirror_mode": {
    "name": "ipython",
    "version": 3
   },
   "file_extension": ".py",
   "mimetype": "text/x-python",
   "name": "python",
   "nbconvert_exporter": "python",
   "pygments_lexer": "ipython3",
   "version": "3.9.13"
  }
 },
 "nbformat": 4,
 "nbformat_minor": 2
}
