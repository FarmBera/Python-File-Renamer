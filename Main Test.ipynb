{
 "cells": [
  {
   "cell_type": "code",
   "execution_count": 7,
   "metadata": {},
   "outputs": [],
   "source": [
    "# STR_FIND = \".txt\"\n",
    "# STR_REPLACE = \".md\"\n",
    "\n",
    "# 참고 할 이름을 가진 파일들의 확장자\n",
    "EXT_REF = \".txt\"\n",
    "\n",
    "# 수정 할 파일들의 확장자\n",
    "EXT_MODIFY = \".md\"\n",
    "\n",
    "log_file_path = \"task_result.csv\""
   ]
  },
  {
   "cell_type": "code",
   "execution_count": 8,
   "metadata": {},
   "outputs": [],
   "source": [
    "import os\n",
    "import pandas as pd\n",
    "import datetime\n",
    "import csv"
   ]
  },
  {
   "cell_type": "code",
   "execution_count": 9,
   "metadata": {},
   "outputs": [
    {
     "name": "stdout",
     "output_type": "stream",
     "text": [
      "['.DS_Store', '.git', '.gitattributes', '.gitignore', '.vscode', '11.md', '22.md', 'LICENSE', 'Main.ipynb', 'Main.py', 'README.md', 'UpdateLog.md', 'oneone.txt', 'task_result.csv', 'twotwo.txt']\n"
     ]
    }
   ],
   "source": [
    "# 경로에 있는 모든 파일 목록 리스트업\n",
    "dir_list = os.listdir()\n",
    "dir_list.sort()  # 정렬\n",
    "print(dir_list)"
   ]
  },
  {
   "cell_type": "code",
   "execution_count": 10,
   "metadata": {},
   "outputs": [
    {
     "name": "stdout",
     "output_type": "stream",
     "text": [
      "<< File List >>\n",
      "\n",
      "< Reference Data >\n",
      "['oneone', 'twotwo']\n",
      "\n",
      "< Modify Data >\n",
      "['11.md', '22.md', 'README.md', 'UpdateLog.md']\n"
     ]
    }
   ],
   "source": [
    "ref_data = []\n",
    "to_data = []\n",
    "\n",
    "# 참고 할 이름을 가진 파일들의 확장자만 추출\n",
    "for item in dir_list:\n",
    "    if item.endswith(EXT_REF):\n",
    "        ref_data.append(item.replace(EXT_REF, \"\"))\n",
    "\n",
    "# 수정 할 파일 목록 추출\n",
    "for item in dir_list:\n",
    "    if item.endswith(EXT_MODIFY):\n",
    "        to_data.append(item)\n",
    "\n",
    "print(\"<< File List >>\", end=\"\\n\\n\")\n",
    "print(\"< Reference Data >\")\n",
    "print(ref_data, end=\"\\n\\n\")\n",
    "print(\"< Modify Data >\")\n",
    "print(to_data)"
   ]
  },
  {
   "cell_type": "code",
   "execution_count": 13,
   "metadata": {},
   "outputs": [
    {
     "name": "stdout",
     "output_type": "stream",
     "text": [
      "2\n",
      "4\n"
     ]
    },
    {
     "ename": "IndexError",
     "evalue": "파일 개수가 맞지 않습니다!",
     "output_type": "error",
     "traceback": [
      "\u001b[0;31m---------------------------------------------------------------------------\u001b[0m",
      "\u001b[0;31mIndexError\u001b[0m                                Traceback (most recent call last)",
      "Cell \u001b[0;32mIn[13], line 8\u001b[0m\n\u001b[1;32m      6\u001b[0m \u001b[38;5;28mprint\u001b[39m(len2)\n\u001b[1;32m      7\u001b[0m \u001b[38;5;28;01mif\u001b[39;00m \u001b[38;5;129;01mnot\u001b[39;00m \u001b[38;5;28mlen\u001b[39m(ref_data) \u001b[38;5;241m==\u001b[39m \u001b[38;5;28mlen\u001b[39m(to_data):\n\u001b[0;32m----> 8\u001b[0m     \u001b[38;5;28;01mraise\u001b[39;00m \u001b[38;5;167;01mIndexError\u001b[39;00m(\u001b[38;5;124m\"\u001b[39m\u001b[38;5;124m파일 개수가 맞지 않습니다!\u001b[39m\u001b[38;5;124m\"\u001b[39m)\n",
      "\u001b[0;31mIndexError\u001b[0m: 파일 개수가 맞지 않습니다!"
     ]
    }
   ],
   "source": [
    "# 파일 개수 맞는지 확인\n",
    "\n",
    "len1 = len(ref_data)\n",
    "len2 = len(to_data)\n",
    "print(len1)\n",
    "print(len2)\n",
    "if not len(ref_data) == len(to_data):\n",
    "    raise IndexError(\"파일 개수가 맞지 않습니다!\")"
   ]
  },
  {
   "cell_type": "code",
   "execution_count": 73,
   "metadata": {},
   "outputs": [],
   "source": [
    "# Deprecated\n",
    "# 참고 할 이름을 가진 파일들의 이름만 \"result.csv\"에 저장\n",
    "\n",
    "# df = pd.DataFrame([ref_data])  # create dataframe\n",
    "# df = df.T  # 행/열 Transpose\n",
    "# df.to_csv(\"result.csv\", index=False, header=False, encoding=\"UTF-8\")"
   ]
  },
  {
   "cell_type": "markdown",
   "metadata": {},
   "source": [
    "### log v1\n"
   ]
  },
  {
   "cell_type": "code",
   "execution_count": 79,
   "metadata": {},
   "outputs": [
    {
     "name": "stdout",
     "output_type": "stream",
     "text": [
      "[['time', 'State', 'Before Name', 'Changed Name'], [datetime.datetime(2024, 2, 25, 22, 31, 23, 914778), 'OK', '1.md', '1 one.md'], [datetime.datetime(2024, 2, 25, 22, 31, 23, 914903), 'OK', '2.md', '2 two.md'], [datetime.datetime(2024, 2, 25, 22, 31, 23, 915093), 'OK', '3.md', '3 three.md']]\n"
     ]
    }
   ],
   "source": [
    "# 작업 정상 처리 되었는지 확인하기 위한 배열\n",
    "task_list = [[\"time\", \"State\", \"Before Name\", \"Changed Name\"]]\n",
    "\n",
    "# 작업 정상 처리 되었을 시, 메시지\n",
    "MSG = \"OK\"\n",
    "MSG_ERR = \"Failed\"\n",
    "\n",
    "# 데이터 처리 시작\n",
    "for i in range(len(ref_data)):\n",
    "    data1 = to_data[i]\n",
    "    data2 = ref_data[i]\n",
    "\n",
    "    try:\n",
    "        # 이름 바꾸기\n",
    "        os.rename(data1, f\"{data2}{EXT_MODIFY}\")\n",
    "        # 작업 처리 메시지에 추가: 정상 완료 기록\n",
    "        task_list.append([datetime.datetime.now(), MSG, data1, f\"{data2}{EXT_MODIFY}\"])\n",
    "    except:\n",
    "        # 작업 처리 메시지에 추가: 작업 오류 기록\n",
    "        task_list.append(\n",
    "            [datetime.datetime.now(), MSG_ERR, data1, f\"{data2}{EXT_MODIFY}\"]\n",
    "        )\n",
    "\n",
    "print(task_list)\n",
    "\n",
    "\n",
    "# 작업 목록 저장\n",
    "df = pd.DataFrame(task_list)  # create dataframe\n",
    "df.to_csv(log_file_path, index=False, header=False, encoding=\"UTF-8\")"
   ]
  },
  {
   "cell_type": "markdown",
   "metadata": {},
   "source": [
    "### log v2\n"
   ]
  },
  {
   "cell_type": "code",
   "execution_count": 32,
   "metadata": {},
   "outputs": [
    {
     "data": {
      "text/plain": [
       "True"
      ]
     },
     "execution_count": 32,
     "metadata": {},
     "output_type": "execute_result"
    }
   ],
   "source": [
    "# 작업 정상 처리 되었을 시, 메시지\n",
    "MSG = \"OK\"\n",
    "MSG_ERR = \"Failed\"\n",
    "TASK_START = \"Task Start\"\n",
    "TASK_END = \"Task Done\"\n",
    "\n",
    "TimeNow = lambda: datetime.datetime.now()\n",
    "\n",
    "\n",
    "# def save_log(time=TimeNow(), msg=\"null\", data1=\"null\", data2=\"null\") -> bool:\n",
    "def save_log(obj) -> bool:\n",
    "    log_f = open(\n",
    "        log_file_path, \"a\", encoding=\"utf-8\", newline=\"\"\n",
    "    )  # 추가 모드로 파일 열기\n",
    "    wr = csv.writer(log_f)\n",
    "    # wr.writerow([time, msg, data1, data2])\n",
    "    wr.writerow(obj)\n",
    "    log_f.close()\n",
    "    return True\n",
    "\n",
    "\n",
    "# 로그 파일 존재하지 않을 때, 파일 생성\n",
    "if log_file_path not in dir_list:\n",
    "    # 작업 정상 처리 되었는지 확인하기 위한 header array\n",
    "    task_list = [[\"time\", \"State\", \"Before Name\", \"Changed Name\"]]\n",
    "    # 작업 목록 저장\n",
    "    df = pd.DataFrame(task_list)  # create dataframe\n",
    "    df.to_csv(f\"{log_file_path}\", index=False, header=False, encoding=\"UTF-8\")\n",
    "\n",
    "\n",
    "save_log([\"\\n\"])\n",
    "save_log([TimeNow(), TASK_START])\n",
    "\n",
    "\n",
    "# 데이터 처리 시작\n",
    "for i in range(len(ref_data)):\n",
    "    data1 = to_data[i]\n",
    "    data2 = ref_data[i]\n",
    "\n",
    "    try:\n",
    "        # 이름 바꾸기\n",
    "        os.rename(data1, f\"{data2}{EXT_MODIFY}\")\n",
    "        # 작업 처리 메시지에 추가: 정상 완료 기록\n",
    "        save_log([TimeNow(), MSG, data1, f\"{data2}{EXT_MODIFY}\"])\n",
    "    except:\n",
    "        # 작업 처리 메시지에 추가: 작업 오류 기록\n",
    "        save_log([TimeNow(), MSG_ERR, data1, f\"{data2}{EXT_MODIFY}\"])\n",
    "\n",
    "\n",
    "save_log([TimeNow(), TASK_END])"
   ]
  },
  {
   "cell_type": "markdown",
   "metadata": {},
   "source": [
    "## Test Session\n"
   ]
  },
  {
   "cell_type": "code",
   "execution_count": 29,
   "metadata": {},
   "outputs": [
    {
     "name": "stdout",
     "output_type": "stream",
     "text": [
      "<function <lambda> at 0x10cf52f70>\n",
      "2024-02-26 16:32:39.341689\n"
     ]
    }
   ],
   "source": [
    "TimeNow = lambda: datetime.datetime.now()\n",
    "\n",
    "print(TimeNow)\n",
    "print(TimeNow())"
   ]
  },
  {
   "cell_type": "code",
   "execution_count": 28,
   "metadata": {},
   "outputs": [],
   "source": [
    "log_f = open(log_file_path, \"a\", encoding=\"utf-8\", newline=\"\")  # 추가 모드로 파일 열기\n",
    "wr = csv.writer(log_f)\n",
    "wr.writerow([TimeNow(), \"Task Start\"])\n",
    "log_f.close()"
   ]
  }
 ],
 "metadata": {
  "kernelspec": {
   "display_name": "Python 3",
   "language": "python",
   "name": "python3"
  },
  "language_info": {
   "codemirror_mode": {
    "name": "ipython",
    "version": 3
   },
   "file_extension": ".py",
   "mimetype": "text/x-python",
   "name": "python",
   "nbconvert_exporter": "python",
   "pygments_lexer": "ipython3",
   "version": "3.9.13"
  }
 },
 "nbformat": 4,
 "nbformat_minor": 2
}
